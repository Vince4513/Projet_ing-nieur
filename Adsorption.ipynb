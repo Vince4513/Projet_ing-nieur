{
  "nbformat": 4,
  "nbformat_minor": 0,
  "metadata": {
    "colab": {
      "provenance": [],
      "collapsed_sections": [
        "u9G7dZ3WHQn3"
      ]
    },
    "kernelspec": {
      "name": "python3",
      "display_name": "Python 3"
    },
    "language_info": {
      "name": "python"
    }
  },
  "cells": [
    {
      "cell_type": "markdown",
      "source": [
        "# Code Matlab"
      ],
      "metadata": {
        "id": "u9G7dZ3WHQn3"
      }
    },
    {
      "cell_type": "code",
      "execution_count": null,
      "metadata": {
        "id": "r37EoaVdHNr4"
      },
      "outputs": [],
      "source": [
        "clear;\n",
        "clc;\n",
        "format long e    % çà ce n'est pas intelligent, la constante d'Euler c'est e dans Matlab: change de nom!\n",
        "\n",
        "L = 1.0;  % longueur du lit\n",
        "ug = 0.01; % vitesse spécifique de gaz\n",
        "epsb = 0.5; % porosité du lit\n",
        "kg = 0.0001; % coefficient de transfert\n",
        "Ke = 10;  % coeff d'équilibre\n",
        "dp = 0.005;   % diamètre de particule\n",
        "as = 6*(1-epsb)/dp;  % surface spécifique, dépend du diamètre de la sphère\n",
        "tend = 1000;  % fin du temps de simulation\n",
        "\n",
        "% il n'y a pas de dispersion axiale\n",
        "\n",
        "N = 100;\n",
        "M = 5;\n",
        "x = linspace(0, L, N+1);   % sépare le tube en N+1 compartiments de même longueur\n",
        "t = linspace(0, tend, M+1);  % sépare le temps en 6 moments de même durée; çà me semble bien court pour une dynamique...\n",
        "\n",
        "figure, hold on\n",
        "title('Analytical solution:')\n",
        "xlabel('x/L [-]');\n",
        "h = legend('show','location','best');\n",
        "set(h,'FontSize',12);\n",
        "for j=2:M+1\n",
        "    for i=1:N+1\n",
        "        tau = kg*as/((1-epsb)*Ke)*(t(j) - x(i)/ug);  % donne le \\tau de la correction pour chaque x et L\n",
        "        xi = kg*as/(epsb*ug)*x(i);  % pareil avec le \\xi\n",
        "        fnc = @(u) exp(-u).*besseli(0, sqrt(4*tau*u), 1)./exp(-abs(real(sqrt(4*tau*u))));  % scales besseli function to avoid overflow\n",
        "        I = integral(fnc, 0 , xi); % integral in the solution\n",
        "        e = exp(-tau); % no comment\n",
        "        g = besseli(0, sqrt(4*tau*xi))*exp(-xi); % la deuxième partie dans le Cs\n",
        "        Cg(i) = real(1 - e*I);   % donne le Cg, normalisé par Cg_in\n",
        "        Cs(i) = real(Ke*(1 - e*(I + g))); % pareil pour Cs\n",
        "    end\n",
        "    Cg(isinf(Cg)) = 0;\n",
        "    Cs(isinf(Cs)) = 0;\n",
        "\n",
        "    subplot(2,1,1), hold on\n",
        "    yyaxis left, hold on\n",
        "    plot(x/L,Cg,'-x','LineWidth',1,'MarkerSize',1,'DisplayName',num2str(t(j)))\n",
        "    ylabel('Cg/Cgin [-]');\n",
        "    ylim([0 1]);\n",
        "\n",
        "    yyaxis right, hold on\n",
        "    subplot(2,1,2), hold on\n",
        "    plot(x/L,Cs,'-x','LineWidth',1,'MarkerSize',1,'DisplayName',num2str(t(j)))\n",
        "    ylabel('Cs/Cgin [-]');\n",
        "    ylim([0 Ke]);\n",
        "end"
      ]
    },
    {
      "cell_type": "markdown",
      "source": [
        "# Attempt - PINN in python"
      ],
      "metadata": {
        "id": "vyL11IxHHX5z"
      }
    },
    {
      "cell_type": "code",
      "source": [
        "from google.colab import drive\n",
        "\n",
        "drive.mount('/content/drive')"
      ],
      "metadata": {
        "id": "t4dqh8kWHWhs"
      },
      "execution_count": null,
      "outputs": []
    },
    {
      "cell_type": "code",
      "source": [
        "import numpy as np\n",
        "import deepxde as dde\n",
        "from deepxde.backend import tf\n",
        "import matplotlib.pyplot as plt"
      ],
      "metadata": {
        "id": "ZOfWvGIWIURp"
      },
      "execution_count": null,
      "outputs": []
    },
    {
      "cell_type": "code",
      "source": [
        "L = 1.0;            # longueur du lit\n",
        "ug = 0.01;          # vitesse spécifique de gaz\n",
        "epsb = 0.5;         # porosité du lit\n",
        "kg = 0.0001;        # coefficient de transfert\n",
        "Ke = 10;            # coeff d'équilibre\n",
        "dp = 0.005;         # diamètre de particule\n",
        "as = 6*(1-epsb)/dp; # surface spécifique, dépend du diamètre de la sphère\n",
        "tend = 1000;        # fin du temps de simulation"
      ],
      "metadata": {
        "id": "gI0moMybHW5Q"
      },
      "execution_count": null,
      "outputs": []
    },
    {
      "cell_type": "markdown",
      "source": [
        "Spécification des dimensions (z,t)"
      ],
      "metadata": {
        "id": "v6jAoGviIagU"
      }
    },
    {
      "cell_type": "code",
      "source": [
        "# Pas de calcul (0.1) ?\n",
        "geom = dde.geometry.Interval(0, L)\n",
        "timedomain = dde.geometry.TimeDomain(0, 0.99)\n",
        "geomtime = dde.geometry.GeometryXTime(geom, timedomain)"
      ],
      "metadata": {
        "id": "9YjrkfkAIZqI"
      },
      "execution_count": null,
      "outputs": []
    },
    {
      "cell_type": "markdown",
      "source": [
        "Partial Differential Equations"
      ],
      "metadata": {
        "id": "EOoD2sv0MJ5A"
      }
    },
    {
      "cell_type": "code",
      "source": [
        "def pde(z, cg):\n",
        "    dcg_z = dde.grad.jacobian(cg, z, i=0, j=0)\n",
        "    dcg_t = dde.grad.jacobian(cg, z, i=0, j=1)\n",
        "    return (dcg_t + ug * dcg_z) + (kg*as/epsb) * (cg-cs/Ke)\n",
        "\n",
        "def pde2(z, cs):\n",
        "    dcs_t = dde.grad.jacobian(y, x, i=0, j=1)\n",
        "    return dcs_t - (kg*as/(1-epsb)) * (cg-cs/Ke)"
      ],
      "metadata": {
        "id": "5qEX6ieuIlkF"
      },
      "execution_count": null,
      "outputs": []
    },
    {
      "cell_type": "markdown",
      "source": [
        "Initial Condition & Boundary Condition"
      ],
      "metadata": {
        "id": "ABiZeOisL7lZ"
      }
    },
    {
      "cell_type": "code",
      "source": [
        "bc = dde.icbc.DirichletBC(geomtime, lambda x: 0, lambda _, on_boundary: on_boundary)\n",
        "ic = dde.icbc.IC(geomtime, lambda x: -np.sin(np.pi * x[:, 0:1]), lambda _, on_initial: on_initial)"
      ],
      "metadata": {
        "id": "FHngZ3vlHXSc"
      },
      "execution_count": null,
      "outputs": []
    },
    {
      "cell_type": "code",
      "source": [],
      "metadata": {
        "id": "n_VNbwfdHXVR"
      },
      "execution_count": null,
      "outputs": []
    },
    {
      "cell_type": "code",
      "source": [],
      "metadata": {
        "id": "lNEKqitMHXXp"
      },
      "execution_count": null,
      "outputs": []
    }
  ]
}