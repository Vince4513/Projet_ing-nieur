{
 "cells": [
  {
   "cell_type": "code",
   "execution_count": null,
   "metadata": {},
   "outputs": [],
   "source": [
    "from google.colab import drive\n",
    "drive.mount('/content/drive')"
   ]
  },
  {
   "cell_type": "code",
   "execution_count": null,
   "metadata": {},
   "outputs": [],
   "source": [
    "import os\n",
    "os.chdir(\"/content/drive/My Drive/3 - 5A/PROJET INGENIEUR/\")\n",
    "\n",
    "!pip install deepxde\n",
    "!pip install --upgrade gspread==3.6.0"
   ]
  },
  {
   "cell_type": "code",
   "execution_count": 1,
   "metadata": {},
   "outputs": [],
   "source": [
    "import numpy as np\n",
    "\n",
    "params_to_search = {\n",
    "    # [\"Hammersley\", \"LHS\", \"Halton\", \"pseudo\", \"Sobol\", \"uniform\"]\n",
    "    \"train_distribution\": [\"uniform\"],\n",
    "    \"num_domain\": [5000],\n",
    "    \"num_boundary\":[5000],\n",
    "    \"num_initial\": [1000],\n",
    "    \"num_test\": [1000],\n",
    "\n",
    "    # [\"Glorot normal\", \"Glorot uniform\", \"He normal\", \"He uniform\", \"LeCun normal\", \"LeCun uniform\", \"Orthogonal\", \"zeros\"]\n",
    "    \"initializer\": [\"Glorot normal\"],\n",
    "    # [elu, relu, gelu, selu, sigmoid, silu, sin, silu, tanh]\n",
    "    \"activation\": [\"tanh\"],\n",
    "    \"nb_couches\": [8],\n",
    "    \"nb_neur_couche\": [32],\n",
    "\n",
    "    \"maxcor\": [100],\n",
    "    \"ftol\": [0],\n",
    "    \"gtol\": [1e-8],\n",
    "    \"maxiter\": [15000],\n",
    "    \"maxfun\": None,\n",
    "    \"maxls\":  [100]\n",
    "}\n",
    "\n",
    "# Choix des paramètres parmi les valeurs porposées\n",
    "current_params = {param: np.random.choice(values) if isinstance(values, list) else values for param, values in params_to_search.items()}\n",
    "\n",
    "loss_weights = [1, 10, 1000, 1000, 1000, 1000]\n",
    "loss_weights_lbfgs = [100, 100, 1e5, 1e4]"
   ]
  },
  {
   "cell_type": "code",
   "execution_count": null,
   "metadata": {},
   "outputs": [],
   "source": [
    "from pinn import PINN\n",
    "\n",
    "# Create an instance of PINN \n",
    "pinn_obj = PINN(\n",
    "    x_start = 0, \n",
    "    x_end = 1, \n",
    "    time_start = 0, \n",
    "    time_end = 1, \n",
    "    total_points = 501,\n",
    "    num_time_steps = 501,\n",
    "    save_path=\"/content/drive/My Drive/3 - 5A/PROJET INGENIEUR/\"\n",
    ")\n",
    "\n",
    "\n",
    "# Run the PINN\n",
    "input, output, cs, cg, losshistory, train_state = pinn_obj.run(\n",
    "    current_params = current_params, \n",
    "    loss_weights = loss_weights,\n",
    "    loss_weights_lbfgs = loss_weights_lbfgs,\n",
    "    iterations = 10\n",
    ")"
   ]
  }
 ],
 "metadata": {
  "kernelspec": {
   "display_name": "Python 3",
   "language": "python",
   "name": "python3"
  },
  "language_info": {
   "codemirror_mode": {
    "name": "ipython",
    "version": 3
   },
   "file_extension": ".py",
   "mimetype": "text/x-python",
   "name": "python",
   "nbconvert_exporter": "python",
   "pygments_lexer": "ipython3",
   "version": "3.9.6"
  }
 },
 "nbformat": 4,
 "nbformat_minor": 2
}
