{
 "cells": [
  {
   "cell_type": "code",
   "execution_count": null,
   "metadata": {},
   "outputs": [],
   "source": [
    "from google.colab import drive\n",
    "drive.mount('/content/drive')"
   ]
  },
  {
   "cell_type": "code",
   "execution_count": null,
   "metadata": {},
   "outputs": [],
   "source": [
    "import os\n",
    "os.chdir(\"/content/drive/My Drive/3 - 5A/PROJET INGENIEUR/\")\n",
    "\n",
    "!pip install deepxde\n",
    "!pip install --upgrade gspread==3.6.0"
   ]
  },
  {
   "cell_type": "code",
   "execution_count": 1,
   "metadata": {},
   "outputs": [],
   "source": [
    "import numpy as np\n",
    "\n",
    "params_to_search = {\n",
    "    # [\"Hammersley\", \"LHS\", \"Halton\", \"pseudo\", \"Sobol\", \"uniform\"]\n",
    "    \"train_distribution\": [\"uniform\"],\n",
    "    \"num_domain\": [5000],\n",
    "    \"num_boundary\":[5000],\n",
    "    \"num_initial\": [1000],\n",
    "    \"num_test\": [1000],\n",
    "\n",
    "    # [\"Glorot normal\", \"Glorot uniform\", \"He normal\", \"He uniform\", \"LeCun normal\", \"LeCun uniform\", \"Orthogonal\", \"zeros\"]\n",
    "    \"initializer\": [\"Glorot normal\"],\n",
    "    # [elu, relu, gelu, selu, sigmoid, silu, sin, silu, tanh]\n",
    "    \"activation\": [\"tanh\"],\n",
    "    \"nb_couches\": [8],\n",
    "    \"nb_neur_couche\": [32],\n",
    "\n",
    "    \"maxcor\": [100],\n",
    "    \"ftol\": [0],\n",
    "    \"gtol\": [1e-8],\n",
    "    \"maxiter\": [15000],\n",
    "    \"maxfun\": None,\n",
    "    \"maxls\":  [100]\n",
    "}\n",
    "\n",
    "# Choix des paramètres parmi les valeurs porposées\n",
    "current_params = {param: np.random.choice(values) if isinstance(values, list) else values for param, values in params_to_search.items()}\n",
    "\n",
    "loss_weights = [1, 10, 1000, 1000, 1000, 1000]\n",
    "loss_weights_lbfgs = [100, 100, 1e5, 1e4]"
   ]
  },
  {
   "cell_type": "code",
   "execution_count": 2,
   "metadata": {},
   "outputs": [
    {
     "name": "stderr",
     "output_type": "stream",
     "text": [
      "Using backend: paddle\n",
      "Other supported backends: tensorflow.compat.v1, tensorflow, pytorch, jax.\n",
      "paddle supports more examples now and is recommended.\n"
     ]
    },
    {
     "name": "stdout",
     "output_type": "stream",
     "text": [
      "Set the default float type to float64\n",
      "Compiling model...\n",
      "'compile' took 0.000664 s\n",
      "\n",
      "Training model...\n",
      "\n",
      "Step      Train loss                                                      Test loss                                                       Test metric\n",
      "0         [5.21e-05, 2.19e-02, 2.89e+01, 1.20e-01, 9.97e+02, 1.22e+01]    [5.21e-05, 2.19e-02, 2.89e+01, 1.20e-01, 9.97e+02, 1.22e+01]    []  \n"
     ]
    },
    {
     "ename": "KeyboardInterrupt",
     "evalue": "",
     "output_type": "error",
     "traceback": [
      "\u001b[1;31m---------------------------------------------------------------------------\u001b[0m",
      "\u001b[1;31mKeyboardInterrupt\u001b[0m                         Traceback (most recent call last)",
      "\u001b[1;32mc:\\diskD\\0 - POLYTECH\\5A\\COURS\\PROJET INGE\\Projet_ingenieur\\PINN_courbe_simple\\Adsorption.ipynb Cell 4\u001b[0m line \u001b[0;36m1\n\u001b[0;32m      <a href='vscode-notebook-cell:/c%3A/diskD/0%20-%20POLYTECH/5A/COURS/PROJET%20INGE/Projet_ingenieur/PINN_courbe_simple/Adsorption.ipynb#W3sZmlsZQ%3D%3D?line=3'>4</a>\u001b[0m pinn_obj \u001b[39m=\u001b[39m PINN(\n\u001b[0;32m      <a href='vscode-notebook-cell:/c%3A/diskD/0%20-%20POLYTECH/5A/COURS/PROJET%20INGE/Projet_ingenieur/PINN_courbe_simple/Adsorption.ipynb#W3sZmlsZQ%3D%3D?line=4'>5</a>\u001b[0m     x_start \u001b[39m=\u001b[39m \u001b[39m0\u001b[39m, \n\u001b[0;32m      <a href='vscode-notebook-cell:/c%3A/diskD/0%20-%20POLYTECH/5A/COURS/PROJET%20INGE/Projet_ingenieur/PINN_courbe_simple/Adsorption.ipynb#W3sZmlsZQ%3D%3D?line=5'>6</a>\u001b[0m     x_end \u001b[39m=\u001b[39m \u001b[39m1\u001b[39m, \n\u001b[1;32m   (...)\u001b[0m\n\u001b[0;32m     <a href='vscode-notebook-cell:/c%3A/diskD/0%20-%20POLYTECH/5A/COURS/PROJET%20INGE/Projet_ingenieur/PINN_courbe_simple/Adsorption.ipynb#W3sZmlsZQ%3D%3D?line=10'>11</a>\u001b[0m     save_path\u001b[39m=\u001b[39m\u001b[39m\"\u001b[39m\u001b[39m/content/drive/My Drive/3 - 5A/PROJET INGENIEUR/\u001b[39m\u001b[39m\"\u001b[39m\n\u001b[0;32m     <a href='vscode-notebook-cell:/c%3A/diskD/0%20-%20POLYTECH/5A/COURS/PROJET%20INGE/Projet_ingenieur/PINN_courbe_simple/Adsorption.ipynb#W3sZmlsZQ%3D%3D?line=11'>12</a>\u001b[0m )\n\u001b[0;32m     <a href='vscode-notebook-cell:/c%3A/diskD/0%20-%20POLYTECH/5A/COURS/PROJET%20INGE/Projet_ingenieur/PINN_courbe_simple/Adsorption.ipynb#W3sZmlsZQ%3D%3D?line=14'>15</a>\u001b[0m \u001b[39m# Run the PINN\u001b[39;00m\n\u001b[1;32m---> <a href='vscode-notebook-cell:/c%3A/diskD/0%20-%20POLYTECH/5A/COURS/PROJET%20INGE/Projet_ingenieur/PINN_courbe_simple/Adsorption.ipynb#W3sZmlsZQ%3D%3D?line=15'>16</a>\u001b[0m \u001b[39minput\u001b[39m, output, cs, cg, losshistory, train_state \u001b[39m=\u001b[39m pinn_obj\u001b[39m.\u001b[39;49mrun(\n\u001b[0;32m     <a href='vscode-notebook-cell:/c%3A/diskD/0%20-%20POLYTECH/5A/COURS/PROJET%20INGE/Projet_ingenieur/PINN_courbe_simple/Adsorption.ipynb#W3sZmlsZQ%3D%3D?line=16'>17</a>\u001b[0m     current_params \u001b[39m=\u001b[39;49m current_params, \n\u001b[0;32m     <a href='vscode-notebook-cell:/c%3A/diskD/0%20-%20POLYTECH/5A/COURS/PROJET%20INGE/Projet_ingenieur/PINN_courbe_simple/Adsorption.ipynb#W3sZmlsZQ%3D%3D?line=17'>18</a>\u001b[0m     loss_weights \u001b[39m=\u001b[39;49m loss_weights,\n\u001b[0;32m     <a href='vscode-notebook-cell:/c%3A/diskD/0%20-%20POLYTECH/5A/COURS/PROJET%20INGE/Projet_ingenieur/PINN_courbe_simple/Adsorption.ipynb#W3sZmlsZQ%3D%3D?line=18'>19</a>\u001b[0m     iterations \u001b[39m=\u001b[39;49m \u001b[39m10\u001b[39;49m\n\u001b[0;32m     <a href='vscode-notebook-cell:/c%3A/diskD/0%20-%20POLYTECH/5A/COURS/PROJET%20INGE/Projet_ingenieur/PINN_courbe_simple/Adsorption.ipynb#W3sZmlsZQ%3D%3D?line=19'>20</a>\u001b[0m )\n",
      "File \u001b[1;32mc:\\diskD\\0 - POLYTECH\\5A\\COURS\\PROJET INGE\\Projet_ingenieur\\PINN_courbe_simple\\pinn.py:121\u001b[0m, in \u001b[0;36mPINN.run\u001b[1;34m(self, current_params, loss_weights, iterations)\u001b[0m\n\u001b[0;32m    118\u001b[0m model \u001b[39m=\u001b[39m dde\u001b[39m.\u001b[39mModel(data, net)\n\u001b[0;32m    120\u001b[0m model\u001b[39m.\u001b[39mcompile(\u001b[39m\"\u001b[39m\u001b[39madam\u001b[39m\u001b[39m\"\u001b[39m, lr\u001b[39m=\u001b[39m\u001b[39m3e-4\u001b[39m, loss_weights \u001b[39m=\u001b[39m loss_weights)\n\u001b[1;32m--> 121\u001b[0m losshistory, train_state \u001b[39m=\u001b[39m model\u001b[39m.\u001b[39;49mtrain(iterations\u001b[39m=\u001b[39;49m iterations)\n\u001b[0;32m    122\u001b[0m dde\u001b[39m.\u001b[39msaveplot(losshistory, train_state, issave\u001b[39m=\u001b[39m\u001b[39mTrue\u001b[39;00m, isplot\u001b[39m=\u001b[39m\u001b[39mTrue\u001b[39;00m)\n\u001b[0;32m    124\u001b[0m \u001b[39m# Save the trained model\u001b[39;00m\n",
      "File \u001b[1;32mc:\\Users\\V\\AppData\\Local\\Programs\\Python\\Python39\\lib\\site-packages\\deepxde\\utils\\internal.py:22\u001b[0m, in \u001b[0;36mtiming.<locals>.wrapper\u001b[1;34m(*args, **kwargs)\u001b[0m\n\u001b[0;32m     19\u001b[0m \u001b[39m@wraps\u001b[39m(f)\n\u001b[0;32m     20\u001b[0m \u001b[39mdef\u001b[39;00m \u001b[39mwrapper\u001b[39m(\u001b[39m*\u001b[39margs, \u001b[39m*\u001b[39m\u001b[39m*\u001b[39mkwargs):\n\u001b[0;32m     21\u001b[0m     ts \u001b[39m=\u001b[39m timeit\u001b[39m.\u001b[39mdefault_timer()\n\u001b[1;32m---> 22\u001b[0m     result \u001b[39m=\u001b[39m f(\u001b[39m*\u001b[39margs, \u001b[39m*\u001b[39m\u001b[39m*\u001b[39mkwargs)\n\u001b[0;32m     23\u001b[0m     te \u001b[39m=\u001b[39m timeit\u001b[39m.\u001b[39mdefault_timer()\n\u001b[0;32m     24\u001b[0m     \u001b[39mif\u001b[39;00m config\u001b[39m.\u001b[39mrank \u001b[39m==\u001b[39m \u001b[39m0\u001b[39m:\n",
      "File \u001b[1;32mc:\\Users\\V\\AppData\\Local\\Programs\\Python\\Python39\\lib\\site-packages\\deepxde\\model.py:645\u001b[0m, in \u001b[0;36mModel.train\u001b[1;34m(self, iterations, batch_size, display_every, disregard_previous_best, callbacks, model_restore_path, model_save_path, epochs)\u001b[0m\n\u001b[0;32m    643\u001b[0m     \u001b[39mif\u001b[39;00m iterations \u001b[39mis\u001b[39;00m \u001b[39mNone\u001b[39;00m:\n\u001b[0;32m    644\u001b[0m         \u001b[39mraise\u001b[39;00m \u001b[39mValueError\u001b[39;00m(\u001b[39m\"\u001b[39m\u001b[39mNo iterations for \u001b[39m\u001b[39m{}\u001b[39;00m\u001b[39m.\u001b[39m\u001b[39m\"\u001b[39m\u001b[39m.\u001b[39mformat(\u001b[39mself\u001b[39m\u001b[39m.\u001b[39mopt_name))\n\u001b[1;32m--> 645\u001b[0m     \u001b[39mself\u001b[39;49m\u001b[39m.\u001b[39;49m_train_sgd(iterations, display_every)\n\u001b[0;32m    646\u001b[0m \u001b[39mself\u001b[39m\u001b[39m.\u001b[39mcallbacks\u001b[39m.\u001b[39mon_train_end()\n\u001b[0;32m    648\u001b[0m \u001b[39mif\u001b[39;00m config\u001b[39m.\u001b[39mrank \u001b[39m==\u001b[39m \u001b[39m0\u001b[39m:\n",
      "File \u001b[1;32mc:\\Users\\V\\AppData\\Local\\Programs\\Python\\Python39\\lib\\site-packages\\deepxde\\model.py:663\u001b[0m, in \u001b[0;36mModel._train_sgd\u001b[1;34m(self, iterations, display_every)\u001b[0m\n\u001b[0;32m    658\u001b[0m \u001b[39mself\u001b[39m\u001b[39m.\u001b[39mcallbacks\u001b[39m.\u001b[39mon_batch_begin()\n\u001b[0;32m    660\u001b[0m \u001b[39mself\u001b[39m\u001b[39m.\u001b[39mtrain_state\u001b[39m.\u001b[39mset_data_train(\n\u001b[0;32m    661\u001b[0m     \u001b[39m*\u001b[39m\u001b[39mself\u001b[39m\u001b[39m.\u001b[39mdata\u001b[39m.\u001b[39mtrain_next_batch(\u001b[39mself\u001b[39m\u001b[39m.\u001b[39mbatch_size)\n\u001b[0;32m    662\u001b[0m )\n\u001b[1;32m--> 663\u001b[0m \u001b[39mself\u001b[39;49m\u001b[39m.\u001b[39;49m_train_step(\n\u001b[0;32m    664\u001b[0m     \u001b[39mself\u001b[39;49m\u001b[39m.\u001b[39;49mtrain_state\u001b[39m.\u001b[39;49mX_train,\n\u001b[0;32m    665\u001b[0m     \u001b[39mself\u001b[39;49m\u001b[39m.\u001b[39;49mtrain_state\u001b[39m.\u001b[39;49my_train,\n\u001b[0;32m    666\u001b[0m     \u001b[39mself\u001b[39;49m\u001b[39m.\u001b[39;49mtrain_state\u001b[39m.\u001b[39;49mtrain_aux_vars,\n\u001b[0;32m    667\u001b[0m )\n\u001b[0;32m    669\u001b[0m \u001b[39mself\u001b[39m\u001b[39m.\u001b[39mtrain_state\u001b[39m.\u001b[39mepoch \u001b[39m+\u001b[39m\u001b[39m=\u001b[39m \u001b[39m1\u001b[39m\n\u001b[0;32m    670\u001b[0m \u001b[39mself\u001b[39m\u001b[39m.\u001b[39mtrain_state\u001b[39m.\u001b[39mstep \u001b[39m+\u001b[39m\u001b[39m=\u001b[39m \u001b[39m1\u001b[39m\n",
      "File \u001b[1;32mc:\\Users\\V\\AppData\\Local\\Programs\\Python\\Python39\\lib\\site-packages\\deepxde\\model.py:555\u001b[0m, in \u001b[0;36mModel._train_step\u001b[1;34m(self, inputs, targets, auxiliary_vars)\u001b[0m\n\u001b[0;32m    553\u001b[0m     \u001b[39mself\u001b[39m\u001b[39m.\u001b[39msess\u001b[39m.\u001b[39mrun(\u001b[39mself\u001b[39m\u001b[39m.\u001b[39mtrain_step, feed_dict\u001b[39m=\u001b[39mfeed_dict)\n\u001b[0;32m    554\u001b[0m \u001b[39melif\u001b[39;00m backend_name \u001b[39min\u001b[39;00m [\u001b[39m\"\u001b[39m\u001b[39mtensorflow\u001b[39m\u001b[39m\"\u001b[39m, \u001b[39m\"\u001b[39m\u001b[39mpaddle\u001b[39m\u001b[39m\"\u001b[39m]:\n\u001b[1;32m--> 555\u001b[0m     \u001b[39mself\u001b[39;49m\u001b[39m.\u001b[39;49mtrain_step(inputs, targets, auxiliary_vars)\n\u001b[0;32m    556\u001b[0m \u001b[39melif\u001b[39;00m backend_name \u001b[39m==\u001b[39m \u001b[39m\"\u001b[39m\u001b[39mpytorch\u001b[39m\u001b[39m\"\u001b[39m:\n\u001b[0;32m    557\u001b[0m     \u001b[39mself\u001b[39m\u001b[39m.\u001b[39mtrain_step(inputs, targets, auxiliary_vars)\n",
      "File \u001b[1;32mc:\\Users\\V\\AppData\\Local\\Programs\\Python\\Python39\\lib\\site-packages\\deepxde\\model.py:493\u001b[0m, in \u001b[0;36mModel._compile_paddle.<locals>.train_step\u001b[1;34m(inputs, targets, auxiliary_vars)\u001b[0m\n\u001b[0;32m    491\u001b[0m losses \u001b[39m=\u001b[39m outputs_losses_train(inputs, targets, auxiliary_vars)[\u001b[39m1\u001b[39m]\n\u001b[0;32m    492\u001b[0m total_loss \u001b[39m=\u001b[39m paddle\u001b[39m.\u001b[39msum(losses)\n\u001b[1;32m--> 493\u001b[0m total_loss\u001b[39m.\u001b[39;49mbackward()\n\u001b[0;32m    494\u001b[0m \u001b[39mself\u001b[39m\u001b[39m.\u001b[39mopt\u001b[39m.\u001b[39mstep()\n\u001b[0;32m    495\u001b[0m \u001b[39mself\u001b[39m\u001b[39m.\u001b[39mopt\u001b[39m.\u001b[39mclear_grad()\n",
      "File \u001b[1;32m~\\AppData\\Roaming\\Python\\Python39\\site-packages\\decorator.py:232\u001b[0m, in \u001b[0;36mdecorate.<locals>.fun\u001b[1;34m(*args, **kw)\u001b[0m\n\u001b[0;32m    230\u001b[0m \u001b[39mif\u001b[39;00m \u001b[39mnot\u001b[39;00m kwsyntax:\n\u001b[0;32m    231\u001b[0m     args, kw \u001b[39m=\u001b[39m fix(args, kw, sig)\n\u001b[1;32m--> 232\u001b[0m \u001b[39mreturn\u001b[39;00m caller(func, \u001b[39m*\u001b[39m(extras \u001b[39m+\u001b[39m args), \u001b[39m*\u001b[39m\u001b[39m*\u001b[39mkw)\n",
      "File \u001b[1;32mc:\\Users\\V\\AppData\\Local\\Programs\\Python\\Python39\\lib\\site-packages\\paddle\\base\\wrapped_decorator.py:26\u001b[0m, in \u001b[0;36mwrap_decorator.<locals>.__impl__\u001b[1;34m(func, *args, **kwargs)\u001b[0m\n\u001b[0;32m     23\u001b[0m \u001b[39m@decorator\u001b[39m\u001b[39m.\u001b[39mdecorator\n\u001b[0;32m     24\u001b[0m \u001b[39mdef\u001b[39;00m \u001b[39m__impl__\u001b[39m(func, \u001b[39m*\u001b[39margs, \u001b[39m*\u001b[39m\u001b[39m*\u001b[39mkwargs):\n\u001b[0;32m     25\u001b[0m     wrapped_func \u001b[39m=\u001b[39m decorator_func(func)\n\u001b[1;32m---> 26\u001b[0m     \u001b[39mreturn\u001b[39;00m wrapped_func(\u001b[39m*\u001b[39margs, \u001b[39m*\u001b[39m\u001b[39m*\u001b[39mkwargs)\n",
      "File \u001b[1;32mc:\\Users\\V\\AppData\\Local\\Programs\\Python\\Python39\\lib\\site-packages\\paddle\\base\\framework.py:585\u001b[0m, in \u001b[0;36m_dygraph_only_.<locals>.__impl__\u001b[1;34m(*args, **kwargs)\u001b[0m\n\u001b[0;32m    580\u001b[0m \u001b[39mdef\u001b[39;00m \u001b[39m__impl__\u001b[39m(\u001b[39m*\u001b[39margs, \u001b[39m*\u001b[39m\u001b[39m*\u001b[39mkwargs):\n\u001b[0;32m    581\u001b[0m     \u001b[39massert\u001b[39;00m in_dygraph_mode(), (\n\u001b[0;32m    582\u001b[0m         \u001b[39m\"\u001b[39m\u001b[39mWe only support \u001b[39m\u001b[39m'\u001b[39m\u001b[39m%s\u001b[39;00m\u001b[39m()\u001b[39m\u001b[39m'\u001b[39m\u001b[39m in dynamic graph mode, please call \u001b[39m\u001b[39m'\u001b[39m\u001b[39mpaddle.disable_static()\u001b[39m\u001b[39m'\u001b[39m\u001b[39m to enter dynamic graph mode.\u001b[39m\u001b[39m\"\u001b[39m\n\u001b[0;32m    583\u001b[0m         \u001b[39m%\u001b[39m func\u001b[39m.\u001b[39m\u001b[39m__name__\u001b[39m\n\u001b[0;32m    584\u001b[0m     )\n\u001b[1;32m--> 585\u001b[0m     \u001b[39mreturn\u001b[39;00m func(\u001b[39m*\u001b[39margs, \u001b[39m*\u001b[39m\u001b[39m*\u001b[39mkwargs)\n",
      "File \u001b[1;32mc:\\Users\\V\\AppData\\Local\\Programs\\Python\\Python39\\lib\\site-packages\\paddle\\base\\dygraph\\tensor_patch_methods.py:311\u001b[0m, in \u001b[0;36mmonkey_patch_tensor.<locals>.backward\u001b[1;34m(self, grad_tensor, retain_graph)\u001b[0m\n\u001b[0;32m    307\u001b[0m \u001b[39mif\u001b[39;00m _grad_scalar:\n\u001b[0;32m    308\u001b[0m     \u001b[39m# When using amp with Fleet DistributedStrategy, we do loss scaling implicitly.\u001b[39;00m\n\u001b[0;32m    309\u001b[0m     \u001b[39mself\u001b[39m \u001b[39m=\u001b[39m _grad_scalar\u001b[39m.\u001b[39mscale(\u001b[39mself\u001b[39m)\n\u001b[1;32m--> 311\u001b[0m core\u001b[39m.\u001b[39;49meager\u001b[39m.\u001b[39;49mrun_backward([\u001b[39mself\u001b[39;49m], grad_tensor, retain_graph)\n\u001b[0;32m    313\u001b[0m \u001b[39mif\u001b[39;00m in_profiler_mode():\n\u001b[0;32m    314\u001b[0m     record_event\u001b[39m.\u001b[39mend()\n",
      "\u001b[1;31mKeyboardInterrupt\u001b[0m: "
     ]
    }
   ],
   "source": [
    "from pinn import PINN\n",
    "\n",
    "# Create an instance of PINN \n",
    "pinn_obj = PINN(\n",
    "    x_start = 0, \n",
    "    x_end = 1, \n",
    "    time_start = 0, \n",
    "    time_end = 1, \n",
    "    total_points = 501,\n",
    "    num_time_steps = 501,\n",
    "    save_path=\"/content/drive/My Drive/3 - 5A/PROJET INGENIEUR/\"\n",
    ")\n",
    "\n",
    "\n",
    "# Run the PINN\n",
    "input, output, cs, cg, losshistory, train_state = pinn_obj.run(\n",
    "    current_params = current_params, \n",
    "    loss_weights = loss_weights,\n",
    "    loss_weights_lbfgs = loss_weights_lbfgs,\n",
    "    iterations = 10\n",
    ")"
   ]
  }
 ],
 "metadata": {
  "kernelspec": {
   "display_name": "Python 3",
   "language": "python",
   "name": "python3"
  },
  "language_info": {
   "codemirror_mode": {
    "name": "ipython",
    "version": 3
   },
   "file_extension": ".py",
   "mimetype": "text/x-python",
   "name": "python",
   "nbconvert_exporter": "python",
   "pygments_lexer": "ipython3",
   "version": "3.9.6"
  }
 },
 "nbformat": 4,
 "nbformat_minor": 2
}
